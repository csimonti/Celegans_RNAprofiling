{
 "cells": [
  {
   "cell_type": "code",
   "execution_count": null,
   "metadata": {
    "collapsed": true
   },
   "outputs": [],
   "source": [
    "# imports\n",
    "import os\n",
    "import sys\n",
    "import matplotlib as mpl\n",
    "import matplotlib.pyplot as plt\n",
    "import matplotlib.ticker as ticker\n",
    "from itertools import cycle\n",
    "%matplotlib inline\n",
    "import seaborn as sns\n",
    "import pandas as pd\n",
    "import numpy as np\n",
    "pd.set_option('max_rows',1000)\n",
    "import os\n",
    "import math\n",
    "from matplotlib.backends.backend_pdf import PdfPages\n",
    "import scipy\n",
    "from scipy import stats\n",
    "import subprocess\n",
    "\n",
    "prefix = \"/Volumes/users/Corinne_Simonti/projects/RNA/\""
   ]
  },
  {
   "cell_type": "code",
   "execution_count": null,
   "metadata": {
    "collapsed": true
   },
   "outputs": [],
   "source": [
    "# Making comparisons\n",
    "out_list = []\n",
    "\n",
    "fn = prefix + \"results/structures/file_list.txt\"\n",
    "\n",
    "for line in open(fn):\n",
    "    out_list.append(line.rstrip('\\n'))\n",
    "\n",
    "# Dictionaries and lists.\n",
    "gs2seq = {}\n",
    "\n",
    "GENE_LIST = []\n",
    "STRAIN_LIST = [\"N2\", \"Hawaii\"]\n",
    "\n",
    "# Parse files.\n",
    "for fn in out_list:\n",
    "    part = fn.split('/')\n",
    "    g1 = part[-1].split('.')\n",
    "    if len(gene) > 2:\n",
    "        g2 = ('.').join(g1[0:-1])\n",
    "    else:\n",
    "        g2 = g1[0]\n",
    "    GENE = g2.split(\"_\")[0]\n",
    "    STRAIN = g2.split(\"_\")[1]\n",
    "    for line in open(fn):\n",
    "        seg = line.split(' ')\n",
    "        if seg[0] == \"seq\":\n",
    "            SEQ = seg[-4]\n",
    "        if seg[0] == \"Helix\":\n",
    "            HELIX = int(seg[1])\n",
    "            START = int(seg[3])\n",
    "            END = int(seg[4])\n",
    "            LENGTH = int(seg[5])\n",
    "            FREQ = int(seg[-1])\n",
    "        if seg[0] == \"Featured\":\n",
    "            HELIX = int(seg[2].rstrip(':'))\n",
    "            START = int(seg[3])\n",
    "            END = int(seg[4])\n",
    "            LENGTH = int(seg[5])\n",
    "            FREQ = int(seg[-1])\n",
    "        if seg[0] == \"Profile\":\n",
    "            pass\n",
    "        if seg[0] == \"Selected\":\n",
    "            pass\n",
    "        "
   ]
  }
 ],
 "metadata": {
  "kernelspec": {
   "display_name": "Python 3",
   "language": "python",
   "name": "python3"
  },
  "language_info": {
   "codemirror_mode": {
    "name": "ipython",
    "version": 3
   },
   "file_extension": ".py",
   "mimetype": "text/x-python",
   "name": "python",
   "nbconvert_exporter": "python",
   "pygments_lexer": "ipython3",
   "version": "3.6.9"
  }
 },
 "nbformat": 4,
 "nbformat_minor": 2
}
