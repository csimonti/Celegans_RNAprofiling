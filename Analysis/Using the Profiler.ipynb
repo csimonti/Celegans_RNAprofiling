{
 "cells": [
  {
   "cell_type": "markdown",
   "metadata": {},
   "source": [
    "# Workflow for using the profiler (in python)."
   ]
  },
  {
   "cell_type": "code",
   "execution_count": 28,
   "metadata": {},
   "outputs": [],
   "source": [
    "# imports\n",
    "import os\n",
    "import sys\n",
    "import matplotlib as mpl\n",
    "import matplotlib.pyplot as plt\n",
    "import matplotlib.ticker as ticker\n",
    "from itertools import cycle\n",
    "%matplotlib inline\n",
    "import seaborn as sns\n",
    "import pandas as pd\n",
    "import numpy as np\n",
    "pd.set_option('max_rows',1000)\n",
    "import os\n",
    "import math\n",
    "from matplotlib.backends.backend_pdf import PdfPages\n",
    "import scipy\n",
    "from scipy import stats\n",
    "import subprocess"
   ]
  },
  {
   "cell_type": "markdown",
   "metadata": {},
   "source": [
    "### RNAstructure\n",
    "#### In order to use the profiler, you must use sampling from RNAstructure and then process it so that the profiler can use the output. This must be used for each sequence that you want to run individually.\n",
    "#### I'm going to use the command line version of RNAstructure, so all instructions below will be in reference to that. Installation instructions can be found here: http://rna.urmc.rochester.edu/Overview/Installation_Instructions_Mac.html"
   ]
  },
  {
   "cell_type": "markdown",
   "metadata": {},
   "source": [
    "To use RNAstructure on the command line, you must set a path for the variable DATAPATH. Change prefix as necessary based on where you've installed it. There are different instructions based on whether you use a BASH environment or other environments (I use BASH, so that's what I will document)\n",
    "\n",
    "export DATAPATH=/Users/csimonti3/Work/opt/RNAstructure/data_tables/"
   ]
  },
  {
   "cell_type": "code",
   "execution_count": 4,
   "metadata": {},
   "outputs": [
    {
     "data": {
      "text/plain": [
       "CompletedProcess(args=['/Users/csimonti3/Work/opt/RNAstructure/exe/stochastic', '/Volumes/users/Corinne_Simonti/projects/RNA/data/fa/test.fa', '/Volumes/users/Corinne_Simonti/projects/RNA/data/ct/test.ct', '--sequence'], returncode=0)"
      ]
     },
     "execution_count": 4,
     "metadata": {},
     "output_type": "execute_result"
    }
   ],
   "source": [
    "# Run on test N2 rad50 fasta file.\n",
    "filename = \"/Volumes/users/Corinne_Simonti/projects/RNA/data/fa/test.fa\"\n",
    "outfilename = \"/Volumes/users/Corinne_Simonti/projects/RNA/data/ct/test.ct\"\n",
    "\n",
    "subprocess.run(['/Users/csimonti3/Work/opt/RNAstructure/exe/stochastic', filename, outfilename, '--sequence'])"
   ]
  },
  {
   "cell_type": "code",
   "execution_count": 19,
   "metadata": {},
   "outputs": [
    {
     "data": {
      "text/plain": [
       "CompletedProcess(args=['python', '/Users/csimonti3/Work/opt/RNAsp/src/RNAStructure_to_gtboltzmann.py', '/Volumes/users/Corinne_Simonti/projects/RNA/data/ct/test.ct', '/Volumes/users/Corinne_Simonti/projects/RNA/data/ct/test.gtboltz'], returncode=0)"
      ]
     },
     "execution_count": 19,
     "metadata": {},
     "output_type": "execute_result"
    }
   ],
   "source": [
    "# Convert ct to gtboltzmann.\n",
    "fn = \"/Volumes/users/Corinne_Simonti/projects/RNA/data/ct/test.ct\"\n",
    "outfn = \"/Volumes/users/Corinne_Simonti/projects/RNA/data/gtboltz/test.gtboltz\"\n",
    "\n",
    "subprocess.run([\"python\", \"/Users/csimonti3/Work/opt/RNAsp/src/RNAStructure_to_gtboltzmann.py\", fn, outfn])"
   ]
  },
  {
   "cell_type": "code",
   "execution_count": 31,
   "metadata": {},
   "outputs": [
    {
     "data": {
      "text/plain": [
       "CompletedProcess(args=['python', '/Users/csimonti3/Work/opt/RNAsp/src/GTBoltzmann_to_sfold.py', '/Volumes/users/Corinne_Simonti/projects/RNA/data/gtboltz/test.gtboltz', '/Volumes/users/Corinne_Simonti/projects/RNA/data/sfold/test.sfold'], returncode=0)"
      ]
     },
     "execution_count": 31,
     "metadata": {},
     "output_type": "execute_result"
    }
   ],
   "source": [
    "# Convert gtboltzmann to sfold\n",
    "fn = \"/Volumes/users/Corinne_Simonti/projects/RNA/data/gtboltz/test.gtboltz\"\n",
    "outfn = \"/Volumes/users/Corinne_Simonti/projects/RNA/data/sfold/test.sfold\"\n",
    "\n",
    "subprocess.run([\"python\", \"/Users/csimonti3/Work/opt/RNAsp/src/GTBoltzmann_to_sfold.py\", fn, outfn])"
   ]
  },
  {
   "cell_type": "code",
   "execution_count": 39,
   "metadata": {},
   "outputs": [],
   "source": [
    "# Run profiler on test file.\n",
    "gtfn = \"/Volumes/users/Corinne_Simonti/projects/RNA/data/gtboltz/test.gtboltz\"\n",
    "sffn = \"/Volumes/users/Corinne_Simonti/projects/RNA/data/sfold/test.sfold\"\n",
    "seqfn = \"/Volumes/users/Corinne_Simonti/projects/RNA/data/fa/test.fa\"\n",
    "outfn = \"/Volumes/users/Corinne_Simonti/projects/RNA/results/structures/test\"\n",
    "\n",
    "#subprocess.run([\"/Users/csimonti3/Work/opt/RNAsp/src/RNAprofile\", \"-v\", \"--sc\", \"-o\", outfn, \"-e\", gtfn,  seqfn])\n",
    "#subprocess.run([\"/Users/csimonti3/Work/opt/RNAsp/src/RNAprofile\", \"-v\", \"-g\", \"--sc\", \"-o\", outfn, \"--sfold\", sffn,  seqfn])\n",
    "result = subprocess.run([\"/Users/csimonti3/Work/opt/RNAsp/src/RNAprofile\", \n",
    "                         \"-v\", \"--sc\", \"-e\", gtfn,  seqfn], stdout=subprocess.PIPE)\n",
    "\n",
    "outfile = open(outfn + \".out\", 'w')\n",
    "for i in result.stdout.decode('utf-8'):\n",
    "    outfile.write(i)\n",
    "    \n",
    "outfile.close()"
   ]
  },
  {
   "cell_type": "code",
   "execution_count": null,
   "metadata": {
    "collapsed": true
   },
   "outputs": [],
   "source": []
  },
  {
   "cell_type": "code",
   "execution_count": 25,
   "metadata": {},
   "outputs": [
    {
     "name": "stdout",
     "output_type": "stream",
     "text": [
      "/Users/csimonti3/Work/opt/RNAsp/src/RNAprofile -v --sc -o /Volumes/users/Corinne_Simonti/projects/RNA/results/structures/test -e /Volumes/users/Corinne_Simonti/projects/RNA/data/gtboltz/test.gtboltz /Volumes/users/Corinne_Simonti/projects/RNA/data/fa/test.fa\n"
     ]
    }
   ],
   "source": [
    "print(\"/Users/csimonti3/Work/opt/RNAsp/src/RNAprofile\", \"-v\", \"--sc\", \"-o\", outfn, \"-e\", gtfn,  seqfn)"
   ]
  },
  {
   "cell_type": "markdown",
   "metadata": {},
   "source": [
    "### Scale up for  let7/lin4 file."
   ]
  },
  {
   "cell_type": "code",
   "execution_count": 12,
   "metadata": {},
   "outputs": [
    {
     "data": {
      "text/plain": [
       "'ACUGACUGACUGACUGACUGACUGACUGACUGACUGACUGACUG'"
      ]
     },
     "execution_count": 12,
     "metadata": {},
     "output_type": "execute_result"
    }
   ],
   "source": [
    "# Test what I'm sure is a very inefficient way to do this.\n",
    "seq = \"ACTGACTGACTGACTGACTGACTGACTGACTGACTGACTGACTG\"\n",
    "newseq = []\n",
    "\n",
    "for i in seq:\n",
    "    if i != \"T\":\n",
    "        newseq.append(i)\n",
    "    else:\n",
    "        newseq.append(\"U\")\n",
    "\n",
    "('').join(newseq)"
   ]
  },
  {
   "cell_type": "code",
   "execution_count": 13,
   "metadata": {},
   "outputs": [
    {
     "name": "stdout",
     "output_type": "stream",
     "text": [
      "12 files written.\n"
     ]
    }
   ],
   "source": [
    "# Convert sequences to temporary FASTA files.\n",
    "prefix = \"/Volumes/users/Corinne_Simonti/projects/RNA/\"\n",
    "\n",
    "SEQ_FILE = prefix + \"results/3UTR_slg_seqs_let7-lin4.txt\"\n",
    "\n",
    "file_list = []\n",
    "\n",
    "for line in open(SEQ_FILE):\n",
    "    if line[0] == \"#\":\n",
    "        continue\n",
    "    seg = line.split('\\t')\n",
    "    ID = seg[1]\n",
    "    GENE = ID.split('|')[4]\n",
    "    NSEQ = seg[2]\n",
    "    HSEQ = seg[3].rstrip('\\n')\n",
    "    outfn = prefix + \"data/fa/\" + GENE + \"N2.fa\"\n",
    "    outfile = open(outfn, 'w')\n",
    "    outfile.write(\">\" + ID + \"\\n\")\n",
    "    newseq = []\n",
    "    for i in NSEQ:\n",
    "        if i != \"T\":\n",
    "            newseq.append(i)\n",
    "        else:\n",
    "            newseq.append(\"U\")\n",
    "    outfile.write(('').join(newseq))\n",
    "    outfile.close()\n",
    "    file_list.append(outfn)\n",
    "    outfn = prefix + \"data/fa/\" + GENE + \"Hawaii.fa\"\n",
    "    outfile = open(outfn, 'w')\n",
    "    outfile.write(\">\" + ID + \"\\n\")\n",
    "    newseq = []\n",
    "    for i in NSEQ:\n",
    "        if i != \"T\":\n",
    "            newseq.append(i)\n",
    "        else:\n",
    "            newseq.append(\"U\")\n",
    "    outfile.write(('').join(newseq))\n",
    "    outfile.close()\n",
    "    file_list.append(outfn)\n",
    "\n",
    "print(\"%d files written.\" % len(file_list))"
   ]
  },
  {
   "cell_type": "code",
   "execution_count": 17,
   "metadata": {
    "collapsed": true
   },
   "outputs": [],
   "source": [
    "# Run RNAstructure.\n",
    "for fn in file_list:\n",
    "    seg = fn.split('/')\n",
    "    gene = seg[-1].split('.')\n",
    "    if len(gene) > 2:\n",
    "        GENE = ('.').join(gene[0:-1])\n",
    "    else:\n",
    "        GENE = gene[0]\n",
    "    outfn = prefix + \"data/ct/\" + GENE + \".ct\"\n",
    "    subprocess.run(['/Users/csimonti3/Work/opt/RNAstructure/exe/stochastic', fn, outfn, '--sequence'])"
   ]
  },
  {
   "cell_type": "code",
   "execution_count": null,
   "metadata": {
    "collapsed": true
   },
   "outputs": [],
   "source": [
    "# Convert to GTBoltzmann"
   ]
  }
 ],
 "metadata": {
  "kernelspec": {
   "display_name": "Python 3",
   "language": "python",
   "name": "python3"
  },
  "language_info": {
   "codemirror_mode": {
    "name": "ipython",
    "version": 3
   },
   "file_extension": ".py",
   "mimetype": "text/x-python",
   "name": "python",
   "nbconvert_exporter": "python",
   "pygments_lexer": "ipython3",
   "version": "3.6.3"
  }
 },
 "nbformat": 4,
 "nbformat_minor": 2
}
