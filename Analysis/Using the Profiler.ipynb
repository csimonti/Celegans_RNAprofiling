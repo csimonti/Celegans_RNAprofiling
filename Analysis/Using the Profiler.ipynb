{
 "cells": [
  {
   "cell_type": "markdown",
   "metadata": {},
   "source": [
    "# Workflow for using the profiler (in python)."
   ]
  },
  {
   "cell_type": "code",
   "execution_count": 1,
   "metadata": {
    "collapsed": true
   },
   "outputs": [],
   "source": [
    "# imports\n",
    "import os\n",
    "import sys\n",
    "import matplotlib as mpl\n",
    "import matplotlib.pyplot as plt\n",
    "import matplotlib.ticker as ticker\n",
    "from itertools import cycle\n",
    "%matplotlib inline\n",
    "import seaborn as sns\n",
    "import pandas as pd\n",
    "import numpy as np\n",
    "pd.set_option('max_rows',1000)\n",
    "import os\n",
    "import math\n",
    "from matplotlib.backends.backend_pdf import PdfPages\n",
    "import scipy\n",
    "from scipy import stats\n",
    "import subprocess"
   ]
  },
  {
   "cell_type": "markdown",
   "metadata": {},
   "source": [
    "### RNAstructure\n",
    "#### In order to use the profiler, you must use sampling from RNAstructure and then process it so that the profiler can use the output. This must be used for each sequence that you want to run individually.\n",
    "#### I'm going to use the command line version of RNAstructure, so all instructions below will be in reference to that. Installation instructions can be found here: http://rna.urmc.rochester.edu/Overview/Installation_Instructions_Mac.html"
   ]
  },
  {
   "cell_type": "markdown",
   "metadata": {},
   "source": [
    "To use RNAstructure on the command line, you must set a path for the variable DATAPATH. Change prefix as necessary based on where you've installed it. There are different instructions based on whether you use a BASH environment or other environments (I use BASH, so that's what I will document)\n",
    "\n",
    "export DATAPATH=/Users/csimonti3/Work/opt/RNAstructure/data_tables/"
   ]
  },
  {
   "cell_type": "code",
   "execution_count": null,
   "metadata": {
    "collapsed": true
   },
   "outputs": [],
   "source": []
  },
  {
   "cell_type": "code",
   "execution_count": 7,
   "metadata": {
    "collapsed": true
   },
   "outputs": [],
   "source": [
    "# Convert sequences to temporary FASTA files.\n"
   ]
  },
  {
   "cell_type": "code",
   "execution_count": 4,
   "metadata": {},
   "outputs": [
    {
     "data": {
      "text/plain": [
       "CompletedProcess(args=['/Users/csimonti3/Work/opt/RNAstructure/exe/stochastic', '/Volumes/users/Corinne_Simonti/projects/RNA/data/fa/test.fa', '/Volumes/users/Corinne_Simonti/projects/RNA/data/ct/test.ct', '--sequence'], returncode=0)"
      ]
     },
     "execution_count": 4,
     "metadata": {},
     "output_type": "execute_result"
    }
   ],
   "source": [
    "# Run on test N2 rad50 fasta file.\n",
    "filename = \"/Volumes/users/Corinne_Simonti/projects/RNA/data/fa/test.fa\"\n",
    "outfilename = \"/Volumes/users/Corinne_Simonti/projects/RNA/data/ct/test.ct\"\n",
    "\n",
    "subprocess.run(['/Users/csimonti3/Work/opt/RNAstructure/exe/stochastic', filename, outfilename, '--sequence'])"
   ]
  },
  {
   "cell_type": "code",
   "execution_count": null,
   "metadata": {
    "collapsed": true
   },
   "outputs": [],
   "source": []
  },
  {
   "cell_type": "code",
   "execution_count": null,
   "metadata": {
    "collapsed": true
   },
   "outputs": [],
   "source": []
  }
 ],
 "metadata": {
  "kernelspec": {
   "display_name": "Python 3",
   "language": "python",
   "name": "python3"
  },
  "language_info": {
   "codemirror_mode": {
    "name": "ipython",
    "version": 3
   },
   "file_extension": ".py",
   "mimetype": "text/x-python",
   "name": "python",
   "nbconvert_exporter": "python",
   "pygments_lexer": "ipython3",
   "version": "3.6.3"
  }
 },
 "nbformat": 4,
 "nbformat_minor": 2
}
