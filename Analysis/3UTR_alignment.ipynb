{
 "cells": [
  {
   "cell_type": "markdown",
   "metadata": {
    "kernel": "SoS"
   },
   "source": [
    "# Extracting N2 3' UTR regions from other genomes"
   ]
  },
  {
   "cell_type": "markdown",
   "metadata": {
    "kernel": "SoS"
   },
   "source": [
    "# Blasting N2 3' UTR regions to CB4856"
   ]
  },
  {
   "cell_type": "markdown",
   "metadata": {
    "kernel": "SoS"
   },
   "source": [
    "### 1) download the CB4856 genome from WormBase FTP site:  \n",
    "ftp://ftp.wormbase.org/pub/wormbase/species/c_elegans/PRJNA275000/sequence/genomic/\n",
    "\n",
    "I believe the CB4856 assembly is PRJNA275000. I chose the WS268 unmasked assembly, as we think WS268 matches what is used in CENDR:\n",
    "`c_elegans.PRJNA275000.WS268.genomic.fa.gz`"
   ]
  },
  {
   "cell_type": "markdown",
   "metadata": {
    "kernel": "SoS"
   },
   "source": [
    "### 2) convert the genome sequences into a local blast database. Requires BLAST+ to be installed"
   ]
  },
  {
   "cell_type": "code",
   "execution_count": 4,
   "metadata": {
    "kernel": "bash"
   },
   "outputs": [
    {
     "name": "stdout",
     "output_type": "stream",
     "text": [
      "\n",
      "\n",
      "Building a new DB, current time: 05/06/2019 13:55:24\n",
      "New DB name:   /home/ksilliman/Projects/PD_RNAworms/Genome_seqs/CB4856_WS268_genomic\n",
      "New DB title:  ../Genome_seqs/c_elegans.PRJNA275000.WS268.genomic.fa\n",
      "Sequence type: Nucleotide\n",
      "Keep Linkouts: T\n",
      "Keep MBits: T\n",
      "Maximum file size: 1000000000B\n",
      "Adding sequences from FASTA; added 7 sequences in 0.809663 seconds.\n"
     ]
    }
   ],
   "source": [
    "gunzip ../Genome_seqs/c_elegans.PRJNA275000.WS268.genomic.fa.gz\n",
    "makeblastdb -in ../Genome_seqs/c_elegans.PRJNA275000.WS268.genomic.fa -out \"../Genome_seqs/CB4856_WS268_genomic\" -taxid 6239 -dbtype nucl"
   ]
  },
  {
   "cell_type": "markdown",
   "metadata": {
    "kernel": "bash"
   },
   "source": [
    "### 3) Download the 3'UTR sequencefrom ParaSite through WomBase, as described on the [WormBase FAQ page](https://www.wormbase.org/about/Frequently_asked_questions)."
   ]
  },
  {
   "cell_type": "code",
   "execution_count": 33,
   "metadata": {
    "kernel": "SoS"
   },
   "outputs": [],
   "source": [
    "# Set the variable name for the ParaSite download and the filtered fasta file\n",
    "# Change these anytime you download a new file \n",
    "UTR = \"martquery_0506213417_153.txt\"\n",
    "UTRf = \"UTR3_3417_WS269_filt.fa\""
   ]
  },
  {
   "cell_type": "code",
   "execution_count": 18,
   "metadata": {
    "kernel": "bash"
   },
   "outputs": [],
   "source": [
    "%expand\n",
    "# Unzip 3'UTR download\n",
    "gunzip {UTR}.gz"
   ]
  },
  {
   "cell_type": "markdown",
   "metadata": {
    "kernel": "bash"
   },
   "source": [
    "### 4) For some reason, the download includes a lot of sequences that say \"Sequence unavailable\". These need to be removed."
   ]
  },
  {
   "cell_type": "code",
   "execution_count": 19,
   "metadata": {
    "kernel": "python3"
   },
   "outputs": [
    {
     "name": "stdout",
     "output_type": "stream",
     "text": [
      "25978\n"
     ]
    }
   ],
   "source": [
    "%expand\n",
    "# Remove all sequences that say \"Sequence unavailable\". Print the total number of sequences.\n",
    "IN = open(\"{UTR}\",\"r\")\n",
    "OUT = open(\"{UTRf}\",\"w\")\n",
    "\n",
    "n = 0\n",
    "seq = \"\"\n",
    "for line in IN:\n",
    "    if \">\" in line:\n",
    "        if seq != \"\":\n",
    "            OUT.write(header+seq+\"\\n\")\n",
    "            n += 1\n",
    "            seq = \"\"\n",
    "        header = line\n",
    "    else:\n",
    "        if \"unavailable\" not in line:\n",
    "            seq = seq + line.strip()\n",
    "        else:\n",
    "            seq = \"\"\n",
    "IN.close()\n",
    "OUT.close()\n",
    "print(n)"
   ]
  },
  {
   "cell_type": "code",
   "execution_count": 20,
   "metadata": {
    "kernel": "bash"
   },
   "outputs": [
    {
     "name": "stdout",
     "output_type": "stream",
     "text": [
      ">WBGene00003525|17486871|17486981|4R79.1a.1\n",
      "TCTTCTATCTGGTGTTATTTATTTTGTTGCTTATTGTTCCATGACGTGTGTATAATGTAATTCTGAAAGCCAATTTTTTCATTTTTTGAAAATATTTATATAATTTATACT\n",
      ">WBGene00004098|10383977|10384063|AC3.4.1\n",
      "ACATCGAATGCGTAACTTTGACATCAGTTCTCTGTATATATGACACAATTTTCTCATTTTTTTCACAATAAATAATAATAATGCTTG\n",
      ">WBGene00007071|10393357|10393504|AC3.5a.2\n",
      "ATGAATTTCCATACAATGACAAAAACTATTAGTGACAGATAACATAAACACTTGATTTTATTTATTAATGTGAAACCGGTCAGAGTTCATAATTTTTGTTGTAACTTGTGTTTGCCTCAACATTGAATAAAATGTTTATAAATCGGAC\n",
      ">WBGene00007072|10397735|10397817|AC3.7.1\n",
      "TTTTAAAAAGTTTTATTTGCTATCAATTTGTATCTCTTGTTGATTTAATTCATATTTGAGCCTTAATAAACTGTCTAATCTGC\n",
      ">WBGene00000024|10380340|10380425|AC3.3.1\n",
      "ACATCGAATGCGTAACTTTGACATCAGTTCTCTGTATATATGACACAATTTTTTTTCTTTTTTTTCACAATAACATTGCTTGAAAT\n"
     ]
    }
   ],
   "source": [
    "%expand\n",
    "head {UTRf}"
   ]
  },
  {
   "cell_type": "markdown",
   "metadata": {
    "kernel": "bash"
   },
   "source": [
    "### 5) Blast N2 3' UTR sequences against the CB4856 genome.\n",
    "Requires an e-value of < 1e-3, at least 80% coverage of the query sequence, and only the top 3 hits."
   ]
  },
  {
   "cell_type": "code",
   "execution_count": 34,
   "metadata": {
    "kernel": "bash"
   },
   "outputs": [],
   "source": [
    "%expand\n",
    "blastn -query {UTRf} -task megablast -outfmt 10 -word_size 11 \\\n",
    "-db ../Genome_seqs/CB4856_WS268_genomic -out 3UTR_blast.out \\\n",
    "-num_threads 2 -max_hsps 3 -evalue 1e-3 -qcov_hsp_perc 80"
   ]
  },
  {
   "cell_type": "code",
   "execution_count": 38,
   "metadata": {
    "kernel": "bash"
   },
   "outputs": [
    {
     "name": "stdout",
     "output_type": "stream",
     "text": [
      "WBGene00003525|17486871|17486981|4R79.1a.1,IV,100.00,111,0,0,1,111,17178578,17178468,8e-53,206\n",
      "WBGene00004098|10383977|10384063|AC3.4.1,V,100.00,87,0,0,1,87,10068540,10068626,1e-39,161\n",
      "WBGene00004098|10383977|10384063|AC3.4.1,V,91.78,73,4,1,1,73,10064988,10064918,3e-21,100\n",
      "WBGene00007071|10393357|10393504|AC3.5a.2,V,100.00,148,0,0,1,148,10077922,10078069,3e-73,274\n",
      "WBGene00007072|10397735|10397817|AC3.7.1,V,100.00,83,0,0,1,83,10082300,10082382,2e-37,154\n",
      "WBGene00000024|10380340|10380425|AC3.3.1,V,94.52,73,2,1,1,73,10068540,10068610,1e-24,111\n",
      "WBGene00004964|10385685|10385711|AC3.10.1,V,100.00,27,0,0,1,27,10070248,10070274,3e-07,51.0\n",
      "WBGene00007063|4664|4717|2L52.1a.1,II,100.00,54,0,0,1,54,4663,4716,1e-21,100\n",
      "WBGene00007073|10401223|10401307|AC3.8.1,V,98.82,85,1,0,1,85,10085789,10085873,7e-37,152\n",
      "WBGene00007070|10374208|10374245|AC3.2.1,V,100.00,38,0,0,1,38,10058907,10058944,6e-13,71.3\n",
      "WBGene00007071|10393357|10393504|AC3.5a.1,V,100.00,148,0,0,1,148,10077922,10078069,3e-73,274\n",
      "WBGene00007071|10393357|10393501|AC3.5b.1,V,100.00,145,0,0,1,145,10077922,10078066,1e-71,268\n",
      "WBGene00007065|13780972|13781133|3R5.1b.1,III,100.00,162,0,0,1,162,13594001,13594162,5e-81,300\n",
      "WBGene00007065|13780972|13781133|3R5.1a.1,III,100.00,162,0,0,1,162,13594001,13594162,5e-81,300\n",
      "WBGene00004929|5127006|5127401|AC7.2a.1,IV,100.00,396,0,0,1,396,4981681,4981286,0.0,732\n",
      "WBGene00006428|5112929|5113026|AC7.1a.1,IV,100.00,98,0,0,1,98,4967299,4967202,1e-45,182\n",
      "WBGene00004929|5127006|5127401|AC7.2d.1,IV,100.00,396,0,0,1,396,4981681,4981286,0.0,732\n",
      "WBGene00006428|5112929|5113026|AC7.1b.1,IV,100.00,98,0,0,1,98,4967299,4967202,1e-45,182\n",
      "WBGene00004929|5127006|5127401|AC7.2a.2,IV,100.00,396,0,0,1,396,4981681,4981286,0.0,732\n",
      "WBGene00004929|5127006|5127401|AC7.2b.1,IV,100.00,396,0,0,1,396,4981681,4981286,0.0,732\n",
      "WBGene00014997|5112876|5112917|AC7.3.1,IV,100.00,42,0,0,1,42,4967149,4967190,4e-15,78.7\n",
      "WBGene00004929|5127006|5127401|AC7.2c.1,IV,100.00,396,0,0,1,396,4981681,4981286,0.0,732\n",
      "WBGene00005032|9548405|9548608|AH6.10.1,II,100.00,204,0,0,1,204,9255685,9255482,3e-104,377\n",
      "WBGene00007092|12151192|12151373|B0001.7c.1,IV,100.00,182,0,0,1,182,11977943,11977762,5e-92,337\n",
      "WBGene00007089|12135077|12135466|B0001.4a.1,IV,99.49,390,0,1,1,390,11962039,11961652,0.0,708\n",
      "WBGene00007093|12138847|12139021|B0001.8a.1,IV,100.00,175,0,0,1,175,11965595,11965421,4e-88,324\n",
      "WBGene00005027|9520200|9520294|AH6.4.1,II,100.00,95,0,0,1,95,9226967,9226873,5e-44,176\n",
      "WBGene00007088|12143431|12143592|B0001.3c.1,IV,100.00,162,0,0,1,162,11970164,11970003,5e-81,300\n",
      "WBGene00007088|12143433|12143592|B0001.3b.1,IV,100.00,160,0,0,1,160,11970164,11970005,7e-80,296\n",
      "WBGene00007088|12143431|12143592|B0001.3a.1,IV,100.00,162,0,0,1,162,11970164,11970003,5e-81,300\n"
     ]
    }
   ],
   "source": [
    "# Look at output of blast\n",
    "# Columns are: Fasta header,\n",
    "# aligned chromosome,\n",
    "# # of identical matches,\n",
    "# alignment length,\n",
    "# # of mismatches,\n",
    "# # of gaps,\n",
    "# alignment start pos query,\n",
    "# alignment end pos query,\n",
    "# alignment start pos in target\n",
    "# alignment end pos in target\n",
    "# evalue\n",
    "# bit score\n",
    "head -n 30 3UTR_blast.out"
   ]
  },
  {
   "cell_type": "markdown",
   "metadata": {
    "kernel": "bash"
   },
   "source": [
    "Some N2 3'UTR loci are aligniing with high confidence to multiple regions of the CB4856 genome. For example, transcript AC3.4.1 aligns to two locations, one alignment with 100% match (evalue 1e-39) and one alignment with 4 mismatches and one gap (evalue 3e-21). When I look at the polymorphism viewer on WormBase for AC3.4.1, I see that CB4856 has a single SNP in the 3'UTR region (so neither of these BLAST results accurately reflect that)."
   ]
  },
  {
   "cell_type": "markdown",
   "metadata": {
    "kernel": "bash"
   },
   "source": [
    "# Using CENDR data"
   ]
  },
  {
   "cell_type": "code",
   "execution_count": null,
   "metadata": {
    "kernel": "bash"
   },
   "outputs": [],
   "source": []
  }
 ],
 "metadata": {
  "kernelspec": {
   "display_name": "SoS",
   "language": "sos",
   "name": "sos"
  },
  "language_info": {
   "codemirror_mode": "sos",
   "file_extension": ".sos",
   "mimetype": "text/x-sos",
   "name": "sos",
   "nbconvert_exporter": "sos_notebook.converter.SoS_Exporter",
   "pygments_lexer": "sos"
  },
  "sos": {
   "kernels": [
    [
     "SoS",
     "sos",
     "",
     ""
    ],
    [
     "bash",
     "bash",
     "bash",
     ""
    ],
    [
     "python3",
     "python3",
     "python",
     ""
    ]
   ],
   "version": "0.19.6"
  }
 },
 "nbformat": 4,
 "nbformat_minor": 2
}
