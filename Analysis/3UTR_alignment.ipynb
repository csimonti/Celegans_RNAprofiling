{
 "cells": [
  {
   "cell_type": "markdown",
   "metadata": {
    "kernel": "SoS"
   },
   "source": [
    "# Extracting N2 3' UTR regions from other genomes"
   ]
  },
  {
   "cell_type": "markdown",
   "metadata": {
    "kernel": "SoS"
   },
   "source": [
    "# Blasting N2 3' UTR regions to CB4856"
   ]
  },
  {
   "cell_type": "markdown",
   "metadata": {
    "kernel": "SoS"
   },
   "source": [
    "### 1) download the CB4856 genome from WormBase FTP site:  \n",
    "ftp://ftp.wormbase.org/pub/wormbase/species/c_elegans/PRJNA275000/sequence/genomic/\n",
    "\n",
    "I believe the CB4856 assembly is PRJNA275000. I chose the WS268 unmasked assembly, as we think WS268 matches what is used in CENDR:\n",
    "`c_elegans.PRJNA275000.WS268.genomic.fa.gz`"
   ]
  },
  {
   "cell_type": "markdown",
   "metadata": {
    "kernel": "SoS"
   },
   "source": [
    "### 2) convert the genome sequences into a local blast database. Requires BLAST+ to be installed"
   ]
  },
  {
   "cell_type": "code",
   "execution_count": 10,
   "metadata": {
    "kernel": "bash"
   },
   "outputs": [
    {
     "name": "stdout",
     "output_type": "stream",
     "text": [
      "gzip: ../Genome_seqs/c_elegans.PRJNA275000.WS268.genomic.fa.gz: No such file or directory\n",
      "\n",
      "\n",
      "Building a new DB, current time: 05/14/2019 14:37:12\n",
      "New DB name:   /home/ksilliman/Projects/PD_RNAworms/Genome_seqs/CB4856_WS268_genomic\n",
      "New DB title:  ../Genome_seqs/c_elegans.PRJNA275000.WS268.genomic.fa\n",
      "Sequence type: Nucleotide\n",
      "Keep Linkouts: T\n",
      "Keep MBits: T\n",
      "Maximum file size: 1000000000B\n",
      "Adding sequences from FASTA; added 7 sequences in 0.840637 seconds.\n"
     ]
    }
   ],
   "source": [
    "gunzip ../Genome_seqs/c_elegans.PRJNA275000.WS268.genomic.fa.gz\n",
    "makeblastdb -in ../Genome_seqs/c_elegans.PRJNA275000.WS268.genomic.fa -out \"../Genome_seqs/CB4856_WS268_genomic\" \\\n",
    "-taxid 6239 -dbtype nucl -parse_seqids"
   ]
  },
  {
   "cell_type": "markdown",
   "metadata": {
    "kernel": "bash"
   },
   "source": [
    "### 3) Download the 3'UTR sequencefrom ParaSite through WomBase, as described on the [WormBase FAQ page](https://www.wormbase.org/about/Frequently_asked_questions)."
   ]
  },
  {
   "cell_type": "code",
   "execution_count": 16,
   "metadata": {
    "kernel": "SoS"
   },
   "outputs": [],
   "source": [
    "# Set the variable name for the ParaSite download and the filtered fasta file\n",
    "# Change these anytime you download a new file \n",
    "UTR = \"martquery_0506213417_153.txt\"\n",
    "UTRf = \"UTR3_3417_WS269_filt.fa\""
   ]
  },
  {
   "cell_type": "code",
   "execution_count": 18,
   "metadata": {
    "kernel": "bash"
   },
   "outputs": [],
   "source": [
    "%expand\n",
    "# Unzip 3'UTR download\n",
    "gunzip {UTR}.gz"
   ]
  },
  {
   "cell_type": "markdown",
   "metadata": {
    "kernel": "bash"
   },
   "source": [
    "### 4) For some reason, the download includes a lot of sequences that say \"Sequence unavailable\". These need to be removed."
   ]
  },
  {
   "cell_type": "code",
   "execution_count": 19,
   "metadata": {
    "kernel": "python3"
   },
   "outputs": [
    {
     "name": "stdout",
     "output_type": "stream",
     "text": [
      "25978\n"
     ]
    }
   ],
   "source": [
    "%expand\n",
    "# Remove all sequences that say \"Sequence unavailable\". Print the total number of sequences.\n",
    "IN = open(\"{UTR}\",\"r\")\n",
    "OUT = open(\"{UTRf}\",\"w\")\n",
    "\n",
    "n = 0\n",
    "seq = \"\"\n",
    "for line in IN:\n",
    "    if \">\" in line:\n",
    "        if seq != \"\":\n",
    "            OUT.write(header+seq+\"\\n\")\n",
    "            n += 1\n",
    "            seq = \"\"\n",
    "        header = line\n",
    "    else:\n",
    "        if \"unavailable\" not in line:\n",
    "            seq = seq + line.strip()\n",
    "        else:\n",
    "            seq = \"\"\n",
    "IN.close()\n",
    "OUT.close()\n",
    "print(n)"
   ]
  },
  {
   "cell_type": "code",
   "execution_count": 20,
   "metadata": {
    "kernel": "bash"
   },
   "outputs": [
    {
     "name": "stdout",
     "output_type": "stream",
     "text": [
      ">WBGene00003525|17486871|17486981|4R79.1a.1\n",
      "TCTTCTATCTGGTGTTATTTATTTTGTTGCTTATTGTTCCATGACGTGTGTATAATGTAATTCTGAAAGCCAATTTTTTCATTTTTTGAAAATATTTATATAATTTATACT\n",
      ">WBGene00004098|10383977|10384063|AC3.4.1\n",
      "ACATCGAATGCGTAACTTTGACATCAGTTCTCTGTATATATGACACAATTTTCTCATTTTTTTCACAATAAATAATAATAATGCTTG\n",
      ">WBGene00007071|10393357|10393504|AC3.5a.2\n",
      "ATGAATTTCCATACAATGACAAAAACTATTAGTGACAGATAACATAAACACTTGATTTTATTTATTAATGTGAAACCGGTCAGAGTTCATAATTTTTGTTGTAACTTGTGTTTGCCTCAACATTGAATAAAATGTTTATAAATCGGAC\n",
      ">WBGene00007072|10397735|10397817|AC3.7.1\n",
      "TTTTAAAAAGTTTTATTTGCTATCAATTTGTATCTCTTGTTGATTTAATTCATATTTGAGCCTTAATAAACTGTCTAATCTGC\n",
      ">WBGene00000024|10380340|10380425|AC3.3.1\n",
      "ACATCGAATGCGTAACTTTGACATCAGTTCTCTGTATATATGACACAATTTTTTTTCTTTTTTTTCACAATAACATTGCTTGAAAT\n"
     ]
    }
   ],
   "source": [
    "%expand\n",
    "head {UTRf}"
   ]
  },
  {
   "cell_type": "markdown",
   "metadata": {
    "kernel": "bash"
   },
   "source": [
    "### 5) Blast N2 3' UTR sequences against the CB4856 genome.\n",
    "Requires an e-value of < 1e-3, at least 80% coverage of the query sequence, and only the top 3 hits."
   ]
  },
  {
   "cell_type": "code",
   "execution_count": 34,
   "metadata": {
    "kernel": "bash"
   },
   "outputs": [],
   "source": [
    "%expand\n",
    "blastn -query {UTRf} -task megablast -outfmt 10 -word_size 11 \\\n",
    "-db ../Genome_seqs/CB4856_WS268_genomic -out 3UTR_blast.out \\\n",
    "-num_threads 2 -max_hsps 3 -evalue 1e-3 -qcov_hsp_perc 80"
   ]
  },
  {
   "cell_type": "code",
   "execution_count": 1,
   "metadata": {
    "kernel": "bash"
   },
   "outputs": [
    {
     "name": "stdout",
     "output_type": "stream",
     "text": [
      "WBGene00003525|17486871|17486981|4R79.1a.1,IV,100.00,111,0,0,1,111,17178578,17178468,8e-53,206\n",
      "WBGene00004098|10383977|10384063|AC3.4.1,V,100.00,87,0,0,1,87,10068540,10068626,1e-39,161\n",
      "WBGene00004098|10383977|10384063|AC3.4.1,V,91.78,73,4,1,1,73,10064988,10064918,3e-21,100\n",
      "WBGene00007071|10393357|10393504|AC3.5a.2,V,100.00,148,0,0,1,148,10077922,10078069,3e-73,274\n",
      "WBGene00007072|10397735|10397817|AC3.7.1,V,100.00,83,0,0,1,83,10082300,10082382,2e-37,154\n",
      "WBGene00000024|10380340|10380425|AC3.3.1,V,94.52,73,2,1,1,73,10068540,10068610,1e-24,111\n",
      "WBGene00004964|10385685|10385711|AC3.10.1,V,100.00,27,0,0,1,27,10070248,10070274,3e-07,51.0\n",
      "WBGene00007063|4664|4717|2L52.1a.1,II,100.00,54,0,0,1,54,4663,4716,1e-21,100\n",
      "WBGene00007073|10401223|10401307|AC3.8.1,V,98.82,85,1,0,1,85,10085789,10085873,7e-37,152\n",
      "WBGene00007070|10374208|10374245|AC3.2.1,V,100.00,38,0,0,1,38,10058907,10058944,6e-13,71.3\n",
      "WBGene00007071|10393357|10393504|AC3.5a.1,V,100.00,148,0,0,1,148,10077922,10078069,3e-73,274\n",
      "WBGene00007071|10393357|10393501|AC3.5b.1,V,100.00,145,0,0,1,145,10077922,10078066,1e-71,268\n",
      "WBGene00007065|13780972|13781133|3R5.1b.1,III,100.00,162,0,0,1,162,13594001,13594162,5e-81,300\n",
      "WBGene00007065|13780972|13781133|3R5.1a.1,III,100.00,162,0,0,1,162,13594001,13594162,5e-81,300\n",
      "WBGene00004929|5127006|5127401|AC7.2a.1,IV,100.00,396,0,0,1,396,4981681,4981286,0.0,732\n",
      "WBGene00006428|5112929|5113026|AC7.1a.1,IV,100.00,98,0,0,1,98,4967299,4967202,1e-45,182\n",
      "WBGene00004929|5127006|5127401|AC7.2d.1,IV,100.00,396,0,0,1,396,4981681,4981286,0.0,732\n",
      "WBGene00006428|5112929|5113026|AC7.1b.1,IV,100.00,98,0,0,1,98,4967299,4967202,1e-45,182\n",
      "WBGene00004929|5127006|5127401|AC7.2a.2,IV,100.00,396,0,0,1,396,4981681,4981286,0.0,732\n",
      "WBGene00004929|5127006|5127401|AC7.2b.1,IV,100.00,396,0,0,1,396,4981681,4981286,0.0,732\n"
     ]
    }
   ],
   "source": [
    "# Look at output of blast\n",
    "# Columns are: Fasta header,\n",
    "# aligned chromosome,\n",
    "# # of identical matches,\n",
    "# alignment length,\n",
    "# # of mismatches,\n",
    "# # of gaps,\n",
    "# alignment start pos query,\n",
    "# alignment end pos query,\n",
    "# alignment start pos in target\n",
    "# alignment end pos in target\n",
    "# evalue\n",
    "# bit score\n",
    "head -n 20 3UTR_blast.out"
   ]
  },
  {
   "cell_type": "markdown",
   "metadata": {
    "kernel": "bash"
   },
   "source": [
    "Some N2 3'UTR loci are aligniing with high confidence to multiple regions of the CB4856 genome. For example, transcript AC3.4.1 aligns to two locations, one alignment with 100% match (evalue 1e-39) and one alignment with 4 mismatches and one gap (evalue 3e-21).  \n",
    "Another issue: sometimes the retrieved CB4856 sequence is shorter than the N2 3'UTR sequence. E.g., A3.3.1 retrieves a 73nt long sequence from CB4856, but the N2 query sequence is 87 nt. See below. Unsure how to fix this or if it needs fixing."
   ]
  },
  {
   "cell_type": "code",
   "execution_count": 24,
   "metadata": {
    "kernel": "bash"
   },
   "outputs": [
    {
     "name": "stdout",
     "output_type": "stream",
     "text": [
      ">lcl|V:10068540-10068610 length=20182852\n",
      "ACATCGAATGCGTAACTTTGACATCAGTTCTCTGTATATATGACACAATTTTCTCATTTTTTTCACAATAA\n",
      "72\n"
     ]
    }
   ],
   "source": [
    "# how to extract the sequence from \n",
    "blastdbcmd -db ../Genome_seqs/CB4856_WS268_genomic -entry 'V' -range 10068540-10068610\n",
    "blastdbcmd -db ../Genome_seqs/CB4856_WS268_genomic -entry 'V' -range 10068540-10068610 | tail -n 1 | wc -c"
   ]
  },
  {
   "cell_type": "code",
   "execution_count": 40,
   "metadata": {
    "kernel": "bash"
   },
   "outputs": [
    {
     "name": "stdout",
     "output_type": "stream",
     "text": [
      ">lcl|V:10068540-10068625 length=20182852\n",
      "ACATCGAATGCGTAACTTTGACATCAGTTCTCTGTATATATGACACAATTTTCTCATTTTTTTCACAATAAATAATAATA\n",
      "ATGCTT\n"
     ]
    }
   ],
   "source": [
    "blastdbcmd -db ../Genome_seqs/CB4856_WS268_genomic -entry 'V' -range 10068540-10068625"
   ]
  },
  {
   "cell_type": "markdown",
   "metadata": {
    "kernel": "bash"
   },
   "source": [
    "# \n",
    "blastdbcmd -help\n",
    "\n",
    " -entry_batch <File_In>\n",
    "   Input file for batch processing (Format: one entry per line, seq id \n",
    "   followed by optional space-delimited specifier(s)\n",
    "   [range|strand|mask_algo_id]"
   ]
  },
  {
   "cell_type": "code",
   "execution_count": 25,
   "metadata": {
    "kernel": "bash"
   },
   "outputs": [
    {
     "name": "stdout",
     "output_type": "stream",
     "text": [
      ">\u001b[01;31m\u001b[KWBGene00000024|10380340|10380425|AC3.3.1\u001b[m\u001b[K\n",
      "ACATCGAATGCGTAACTTTGACATCAGTTCTCTGTATATATGACACAATTTTTTTTCTTTTTTTTCACAATAACATTGCTTGAAAT\n",
      "87\n"
     ]
    }
   ],
   "source": [
    "%expand\n",
    "grep \"WBGene00000024|10380340|10380425|AC3.3.1\" {UTRf} -A 1 \n",
    "grep \"WBGene00000024|10380340|10380425|AC3.3.1\" {UTRf} -A 1 | tail -n 1 | wc -c"
   ]
  },
  {
   "cell_type": "code",
   "execution_count": 39,
   "metadata": {
    "kernel": "bash"
   },
   "outputs": [],
   "source": [
    "%expand\n",
    "blastn -query {UTRf} -task megablast -word_size 11 \\\n",
    "-db ../Genome_seqs/CB4856_WS268_genomic -out 3UTR_blastalign.out \\\n",
    "-num_threads 2 -max_hsps 3 -evalue 1e-3 -qcov_hsp_perc 80"
   ]
  },
  {
   "cell_type": "code",
   "execution_count": null,
   "metadata": {
    "kernel": "python3"
   },
   "outputs": [],
   "source": [
    "# make input file for parsing seqs\n"
   ]
  },
  {
   "cell_type": "markdown",
   "metadata": {
    "kernel": "bash"
   },
   "source": [
    "# Using CENDR data"
   ]
  },
  {
   "cell_type": "code",
   "execution_count": 1,
   "metadata": {
    "kernel": "bash"
   },
   "outputs": [],
   "source": [
    "gunzip ../Genome_seqs/c_elegans.PRJNA13758.WS269.annotations.gff3.gz"
   ]
  },
  {
   "cell_type": "code",
   "execution_count": 2,
   "metadata": {
    "kernel": "bash"
   },
   "outputs": [],
   "source": [
    "awk 'BEGIN {FS=\"\\t\";OFS=\"\\t\"} {if($9 ~ \"CB4856\") print}' ../Genome_seqs/c_elegans.PRJNA13758.WS269.annotations.gff3 > WS269_Hawaiian_GFF3_lines.txt"
   ]
  },
  {
   "cell_type": "code",
   "execution_count": 3,
   "metadata": {
    "kernel": "bash"
   },
   "outputs": [
    {
     "name": "stdout",
     "output_type": "stream",
     "text": [
      "I\tVariation_project_Polymorphism\tSNP\t1222\t1222\t.\t+\t.\tvariation=WBVar00146751;public_name=WBVar00146751;other_name=haw1,cewivar00160085;strain=CB4856;polymorphism=1;substitution=A/C\n",
      "I\tVariation_project_Polymorphism\tcomplex_substitution\t1369\t1388\t.\t+\t.\tvariation=WBVar02088481;public_name=WBVar02088481;other_name=cewivar00818301;strain=CB4856;polymorphism=1;insertion=CTTATTATTGATGTCAAAGAAGC\n",
      "I\tVariation_project_Polymorphism\tSNP\t1713\t1713\t.\t+\t.\tvariation=WBVar01273539;public_name=WBVar01273539;other_name=cewivar00160086;strain=CB4856;polymorphism=1;substitution=T/G\n",
      "I\tVariation_project_Polymorphism\tSNP\t1933\t1933\t.\t+\t.\tvariation=WBVar01529474;public_name=WBVar01529474;other_name=cewivar00065822;strain=AB3,CB4853,CB4854,CB4856,ED3021,ED3040,ED3042,ED3049,JU263,JU300,JU312,JU322,JU345,JU361,JU397,JU775,JU1088,JU1171,JU1401,JU1652,KR314,LKC34,MY2,MY14,MY16,PX174;polymorphism=1;substitution=C/G\n",
      "I\tVariation_project_Polymorphism\tinsertion_site\t1943\t1943\t.\t+\t.\tvariation=WBVar01955456;public_name=WBVar01955456;other_name=cewivar00677951;strain=CB4856;polymorphism=1;insertion=CAT\n",
      "I\tVariation_project_Polymorphism\tinsertion_site\t2209\t2209\t.\t+\t.\tvariation=WBVar01231692;public_name=WBVar01231692;other_name=cewivar00677952;strain=CB4856;polymorphism=1;insertion=AA\n",
      "I\tVariation_project_Polymorphism\tSNP\t2210\t2210\t.\t+\t.\tvariation=WBVar01573445;public_name=WBVar01573445;other_name=cewivar00160087;strain=CB4856;polymorphism=1;substitution=T/A\n",
      "I\tVariation_project_Polymorphism\tSNP\t2622\t2622\t.\t+\t.\tvariation=WBVar01273550;public_name=WBVar01273550;other_name=cewivar00160088;strain=CB4856;polymorphism=1;substitution=T/A\n",
      "I\tVariation_project_Polymorphism\tSNP\t2651\t2651\t.\t+\t.\tvariation=WBVar00146752;public_name=WBVar00146752;other_name=haw2,cewivar00160089;strain=CB4856;polymorphism=1;substitution=T/A\n",
      "I\tVariation_project_Polymorphism\tSNP\t3048\t3048\t.\t+\t.\tvariation=WBVar01273572;public_name=WBVar01273572;other_name=cewivar00065824;strain=AB3,CB4853,CB4854,CB4856,ED3021,ED3040,ED3042,ED3049,JU263,JU300,JU312,JU322,JU345,JU361,JU397,JU775,JU1088,JU1171,JU1400,JU1401,JU1652,KR314,LKC34,MY2,MY6,MY14,MY16,PX174;polymorphism=1;substitution=C/G\n"
     ]
    }
   ],
   "source": [
    "head WS269_Hawaiian_GFF3_lines.txt"
   ]
  },
  {
   "cell_type": "code",
   "execution_count": 4,
   "metadata": {
    "kernel": "bash"
   },
   "outputs": [
    {
     "name": "stdout",
     "output_type": "stream",
     "text": [
      ">WBGene00003525|17486871|17486981|4R79.1a.1\n",
      "TCTTCTATCTGGTGTTATTTATTTTGTTGCTTATTGTTCCATGACGTGTGTATAATGTAATTCTGAAAGCCAATTTTTTCATTTTTTGAAAATATTTATATAATTTATACT\n",
      ">WBGene00004098|10383977|10384063|AC3.4.1\n",
      "ACATCGAATGCGTAACTTTGACATCAGTTCTCTGTATATATGACACAATTTTCTCATTTTTTTCACAATAAATAATAATAATGCTTG\n",
      ">WBGene00007071|10393357|10393504|AC3.5a.2\n",
      "ATGAATTTCCATACAATGACAAAAACTATTAGTGACAGATAACATAAACACTTGATTTTATTTATTAATGTGAAACCGGTCAGAGTTCATAATTTTTGTTGTAACTTGTGTTTGCCTCAACATTGAATAAAATGTTTATAAATCGGAC\n",
      ">WBGene00007072|10397735|10397817|AC3.7.1\n",
      "TTTTAAAAAGTTTTATTTGCTATCAATTTGTATCTCTTGTTGATTTAATTCATATTTGAGCCTTAATAAACTGTCTAATCTGC\n",
      ">WBGene00000024|10380340|10380425|AC3.3.1\n",
      "ACATCGAATGCGTAACTTTGACATCAGTTCTCTGTATATATGACACAATTTTTTTTCTTTTTTTTCACAATAACATTGCTTGAAAT\n"
     ]
    }
   ],
   "source": [
    "head UTR3_3417_WS269_filt.fa"
   ]
  },
  {
   "cell_type": "code",
   "execution_count": null,
   "metadata": {
    "kernel": "bash"
   },
   "outputs": [],
   "source": []
  },
  {
   "cell_type": "code",
   "execution_count": 26,
   "metadata": {
    "kernel": "bash"
   },
   "outputs": [],
   "source": [
    "gunzip ../Genome_seqs/c_elegans.PRJNA275000.WS268.annotations.gff3.gz"
   ]
  },
  {
   "cell_type": "code",
   "execution_count": 41,
   "metadata": {
    "kernel": "bash"
   },
   "outputs": [
    {
     "name": "stdout",
     "output_type": "stream",
     "text": [
      "V\tcelegans_proteins-BLASTX\tprotein_match\t10064992\t10066215\t2303\t-\t.\tID=wormpepx.5024800;Name=\u001b[01;31m\u001b[KAC3.3\u001b[m\u001b[K;Target=\u001b[01;31m\u001b[KAC3.3\u001b[m\u001b[K 10064992 10066215;Gap=M1224 \n",
      "V\tcelegans_proteins-BLASTX\tprotein_match\t10066262\t10066348\t78\t-\t.\tID=wormpepx.5024666;Name=\u001b[01;31m\u001b[KAC3.3\u001b[m\u001b[K;Target=\u001b[01;31m\u001b[KAC3.3\u001b[m\u001b[K 10066262 10066348;Gap=M87 \n",
      "V\tcelegans_proteins-BLASTX\tprotein_match\t4879688\t4879795\t44\t+\t.\tID=wormpepx.5073131;Name=\u001b[01;31m\u001b[KAC3.3\u001b[m\u001b[K;Target=\u001b[01;31m\u001b[KAC3.3\u001b[m\u001b[K 4879688 4879795;Gap=M108 \n",
      "V\tcelegans_proteins-BLASTX\tprotein_match\t8877326\t8877379\t40\t+\t.\tID=wormpepx.3259547;Name=\u001b[01;31m\u001b[KAC3.3\u001b[m\u001b[K;Target=\u001b[01;31m\u001b[KAC3.3\u001b[m\u001b[K 8877326 8877379;Gap=M54 \n",
      "V\tcelegans_proteins-BLASTX\tprotein_match\t10067313\t10068536\t2295\t+\t.\tID=wormpepx.5024569;Name=\u001b[01;31m\u001b[KAC3.3\u001b[m\u001b[K;Target=\u001b[01;31m\u001b[KAC3.3\u001b[m\u001b[K 10067313 10068536;Gap=M1224 \n",
      "X\tcelegans_proteins-BLASTX\tprotein_match\t3709067\t3709129\t40\t-\t.\tID=wormpepx.4578565;Name=\u001b[01;31m\u001b[KAC3.3\u001b[m\u001b[K;Target=\u001b[01;31m\u001b[KAC3.3\u001b[m\u001b[K 3709067 3709129;Gap=M63 \n",
      "IV\tcelegans_proteins-BLASTX\tprotein_match\t15060362\t15061561\t1944\t-\t.\tID=wormpepx.2337780;Name=\u001b[01;31m\u001b[KAC3.3\u001b[m\u001b[K;Target=\u001b[01;31m\u001b[KAC3.3\u001b[m\u001b[K 15060362 15061561;Gap=M81 I6 M222 D3 M201 I6 M429 I9 M264 \n",
      "IV\tcelegans_proteins-BLASTX\tprotein_match\t15056376\t15056444\t43\t+\t.\tID=wormpepx.2336974;Name=\u001b[01;31m\u001b[KAC3.3\u001b[m\u001b[K;Target=\u001b[01;31m\u001b[KAC3.3\u001b[m\u001b[K 15056376 15056444;Gap=M69 \n",
      "IV\tcelegans_proteins-BLASTX\tprotein_match\t15062361\t15062414\t51\t+\t.\tID=wormpepx.2337181;Name=\u001b[01;31m\u001b[KAC3.3\u001b[m\u001b[K;Target=\u001b[01;31m\u001b[KAC3.3\u001b[m\u001b[K 15062361 15062414;Gap=M54 \n",
      "IV\tcelegans_proteins-BLASTX\tprotein_match\t15062719\t15063825\t1519\t+\t.\tID=wormpepx.2337594;Name=\u001b[01;31m\u001b[KAC3.3\u001b[m\u001b[K;Target=\u001b[01;31m\u001b[KAC3.3\u001b[m\u001b[K 15062719 15063825;Gap=M12 I6 M18 I9 M18 D3 M30 I15 M27 I3 M6 I6 M18 I3 M60 I3 M15 I6 M54 D3 M12 D6 M132 I6 M429 I9 M264 \n",
      "IV\tcelegans_proteins-BLASTX\tprotein_match\t15334887\t15334940\t40\t+\t.\tID=wormpepx.4197831;Name=\u001b[01;31m\u001b[KAC3.3\u001b[m\u001b[K;Target=\u001b[01;31m\u001b[KAC3.3\u001b[m\u001b[K 15334887 15334940;Gap=M54 \n",
      "IV\tcelegans_proteins-BLASTX\tprotein_match\t15365263\t15365316\t68\t+\t.\tID=wormpepx.4197933;Name=\u001b[01;31m\u001b[KAC3.3\u001b[m\u001b[K;Target=\u001b[01;31m\u001b[KAC3.3\u001b[m\u001b[K 15365263 15365316;Gap=M54 \n",
      "IV\tcelegans_proteins-BLASTX\tprotein_match\t15365409\t15365549\t85\t+\t.\tID=wormpepx.4197955;Name=\u001b[01;31m\u001b[KAC3.3\u001b[m\u001b[K;Target=\u001b[01;31m\u001b[KAC3.3\u001b[m\u001b[K 15365409 15365549;Gap=M75 D3 M63 \n",
      "II\tcelegans_proteins-BLASTX\tprotein_match\t10027517\t10027585\t45\t+\t.\tID=wormpepx.278441;Name=\u001b[01;31m\u001b[KAC3.3\u001b[m\u001b[K;Target=\u001b[01;31m\u001b[KAC3.3\u001b[m\u001b[K 10027517 10027585;Gap=M27 I3 M15 D9 M18 \n",
      "II\tcelegans_proteins-BLASTX\tprotein_match\t10028689\t10028790\t43\t+\t.\tID=wormpepx.278429;Name=\u001b[01;31m\u001b[KAC3.3\u001b[m\u001b[K;Target=\u001b[01;31m\u001b[KAC3.3\u001b[m\u001b[K 10028689 10028790;Gap=M102 \n"
     ]
    }
   ],
   "source": [
    "grep \"AC3.3\" ../Genome_seqs/c_elegans.PRJNA275000.WS268.annotations.gff3"
   ]
  },
  {
   "cell_type": "code",
   "execution_count": 34,
   "metadata": {
    "kernel": "bash"
   },
   "outputs": [],
   "source": [
    "gunzip ../Genome_seqs/File_S1_Celegans_N2_to_CB4856_lastz_alignment.txt.gz"
   ]
  },
  {
   "cell_type": "code",
   "execution_count": 38,
   "metadata": {
    "kernel": "bash"
   },
   "outputs": [
    {
     "name": "stdout",
     "output_type": "stream",
     "text": [
      "#Thompson et al.\n",
      "#File S1 LastZ alignments between C. elegans N2 (WS230) and CB4856\n",
      "# If the coordinate is not found in this file, then that region was\n",
      "# not aligned by lastZ.\n",
      "#Column 1: Chromosome\n",
      "#Column 2: C. elegans N2 WS230 base\n",
      "#Column 3: C. elegans N2 WS230 coordinate\n",
      "#Column 4: C. elegans CB4856 base\n",
      "#Column 5: C. elegans CB4856 coordinate\n",
      "\n",
      "CeI G 1 G 1\n",
      "CeI C 2 C 2\n",
      "CeI C 3 C 3\n",
      "CeI T 4 T 4\n",
      "CeI A 5 A 5\n",
      "CeI A 6 A 6\n",
      "CeI G 7 G 7\n",
      "CeI C 8 C 8\n",
      "CeI C 9 C 9\n",
      "CeI T 10 T 10\n"
     ]
    }
   ],
   "source": [
    "head -n 20 ../Genome_seqs/File_S1_Celegans_N2_to_CB4856_lastz_alignment.txt"
   ]
  },
  {
   "cell_type": "code",
   "execution_count": null,
   "metadata": {
    "kernel": "bash"
   },
   "outputs": [],
   "source": []
  }
 ],
 "metadata": {
  "kernelspec": {
   "display_name": "SoS",
   "language": "sos",
   "name": "sos"
  },
  "language_info": {
   "codemirror_mode": "sos",
   "file_extension": ".sos",
   "mimetype": "text/x-sos",
   "name": "sos",
   "nbconvert_exporter": "sos_notebook.converter.SoS_Exporter",
   "pygments_lexer": "sos"
  },
  "sos": {
   "kernels": [
    [
     "SoS",
     "sos",
     "",
     ""
    ],
    [
     "bash",
     "bash",
     "bash",
     ""
    ],
    [
     "python3",
     "python3",
     "python",
     ""
    ]
   ],
   "version": "0.19.6"
  }
 },
 "nbformat": 4,
 "nbformat_minor": 2
}
